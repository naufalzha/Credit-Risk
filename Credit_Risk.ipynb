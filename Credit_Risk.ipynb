{
  "nbformat": 4,
  "nbformat_minor": 0,
  "metadata": {
    "colab": {
      "name": "Credit_Risk.ipynb",
      "provenance": []
    },
    "kernelspec": {
      "name": "python3",
      "display_name": "Python 3"
    },
    "language_info": {
      "name": "python"
    }
  },
  "cells": [
    {
      "cell_type": "code",
      "execution_count": 13,
      "metadata": {
        "id": "s38Gxr1gDfxQ"
      },
      "outputs": [],
      "source": [
        "#library\n",
        "import pandas as pd\n",
        "import numpy as np\n",
        "from sklearn.preprocessing import LabelEncoder\n",
        "from sklearn.model_selection import *"
      ]
    },
    {
      "cell_type": "code",
      "source": [
        "data = pd.read_excel('https://storage.googleapis.com/dqlab-dataset/credit_scoring_dqlab.xlsx')\n",
        "data_feed = data.drop([\"kpr_aktif\",\"kode_kontrak\", \"pendapatan_setahun_juta\", \"risk_rating\", \"rata_rata_overdue\"], axis=1)"
      ],
      "metadata": {
        "id": "J6eavkUODrkR"
      },
      "execution_count": 9,
      "outputs": []
    },
    {
      "cell_type": "code",
      "source": [
        "labelencoder = LabelEncoder()\n",
        "labels = labelencoder.fit_transform(data['risk_rating'])"
      ],
      "metadata": {
        "id": "lPv_UhEPE1Vj"
      },
      "execution_count": 11,
      "outputs": []
    },
    {
      "cell_type": "code",
      "source": [
        "##SEED\n",
        "SEED = 2022"
      ],
      "metadata": {
        "id": "iMeMjlTHHBdZ"
      },
      "execution_count": 14,
      "outputs": []
    },
    {
      "cell_type": "code",
      "source": [
        "##Data Split\n",
        "X_train, X_test, Y_train, Y_test = train_test_split(data_feed, labels, test_size = 0.20, \n",
        "                                                      random_state = SEED)"
      ],
      "metadata": {
        "id": "HhND9UiYHzAB"
      },
      "execution_count": 15,
      "outputs": []
    },
    {
      "cell_type": "code",
      "source": [
        "print('Ukuran X Train:', X_train.shape)\n",
        "print('Ukuran Y Train:', Y_train.shape)\n",
        "print('Ukuran X Test:', X_test.shape)\n",
        "print('Ukuran Y Test:', Y_test.shape)"
      ],
      "metadata": {
        "colab": {
          "base_uri": "https://localhost:8080/"
        },
        "id": "MwFUVeT4IJ1Q",
        "outputId": "03f98ea9-5174-459f-d6b8-119f0d924fb0"
      },
      "execution_count": 16,
      "outputs": [
        {
          "output_type": "stream",
          "name": "stdout",
          "text": [
            "Ukuran X Train: (720, 2)\n",
            "Ukuran Y Train: (720,)\n",
            "Ukuran X Test: (180, 2)\n",
            "Ukuran Y Test: (180,)\n"
          ]
        }
      ]
    },
    {
      "cell_type": "code",
      "source": [
        "from sklearn import tree\n",
        "from sklearn.tree import export_text"
      ],
      "metadata": {
        "id": "dADi66PyIOQC"
      },
      "execution_count": 23,
      "outputs": []
    },
    {
      "cell_type": "code",
      "source": [
        "risk_rating_model = tree.DecisionTreeClassifier()\n",
        "risk_rating_model.fit(X_train, Y_train)\n",
        "r = export_text(risk_rating_model)\n",
        "print(r)"
      ],
      "metadata": {
        "colab": {
          "base_uri": "https://localhost:8080/"
        },
        "id": "58amgAteJ1Ml",
        "outputId": "89f54611-7e08-46d7-fbc1-81f05a6afdc3"
      },
      "execution_count": 27,
      "outputs": [
        {
          "output_type": "stream",
          "name": "stdout",
          "text": [
            "|--- feature_1 <= 4.50\n",
            "|   |--- feature_1 <= 2.50\n",
            "|   |   |--- feature_0 <= 42.00\n",
            "|   |   |   |--- feature_0 <= 30.00\n",
            "|   |   |   |   |--- feature_1 <= 1.50\n",
            "|   |   |   |   |   |--- feature_1 <= 0.50\n",
            "|   |   |   |   |   |   |--- feature_0 <= 18.00\n",
            "|   |   |   |   |   |   |   |--- class: 0\n",
            "|   |   |   |   |   |   |--- feature_0 >  18.00\n",
            "|   |   |   |   |   |   |   |--- class: 0\n",
            "|   |   |   |   |   |--- feature_1 >  0.50\n",
            "|   |   |   |   |   |   |--- feature_0 <= 18.00\n",
            "|   |   |   |   |   |   |   |--- class: 0\n",
            "|   |   |   |   |   |   |--- feature_0 >  18.00\n",
            "|   |   |   |   |   |   |   |--- class: 0\n",
            "|   |   |   |   |--- feature_1 >  1.50\n",
            "|   |   |   |   |   |--- feature_0 <= 18.00\n",
            "|   |   |   |   |   |   |--- class: 0\n",
            "|   |   |   |   |   |--- feature_0 >  18.00\n",
            "|   |   |   |   |   |   |--- class: 0\n",
            "|   |   |   |--- feature_0 >  30.00\n",
            "|   |   |   |   |--- feature_1 <= 0.50\n",
            "|   |   |   |   |   |--- class: 1\n",
            "|   |   |   |   |--- feature_1 >  0.50\n",
            "|   |   |   |   |   |--- feature_1 <= 1.50\n",
            "|   |   |   |   |   |   |--- class: 0\n",
            "|   |   |   |   |   |--- feature_1 >  1.50\n",
            "|   |   |   |   |   |   |--- class: 1\n",
            "|   |   |--- feature_0 >  42.00\n",
            "|   |   |   |--- feature_1 <= 0.50\n",
            "|   |   |   |   |--- class: 1\n",
            "|   |   |   |--- feature_1 >  0.50\n",
            "|   |   |   |   |--- feature_1 <= 1.50\n",
            "|   |   |   |   |   |--- class: 2\n",
            "|   |   |   |   |--- feature_1 >  1.50\n",
            "|   |   |   |   |   |--- class: 2\n",
            "|   |--- feature_1 >  2.50\n",
            "|   |   |--- feature_0 <= 42.00\n",
            "|   |   |   |--- feature_0 <= 30.00\n",
            "|   |   |   |   |--- feature_0 <= 18.00\n",
            "|   |   |   |   |   |--- feature_1 <= 3.50\n",
            "|   |   |   |   |   |   |--- class: 2\n",
            "|   |   |   |   |   |--- feature_1 >  3.50\n",
            "|   |   |   |   |   |   |--- class: 2\n",
            "|   |   |   |   |--- feature_0 >  18.00\n",
            "|   |   |   |   |   |--- feature_1 <= 3.50\n",
            "|   |   |   |   |   |   |--- class: 2\n",
            "|   |   |   |   |   |--- feature_1 >  3.50\n",
            "|   |   |   |   |   |   |--- class: 2\n",
            "|   |   |   |--- feature_0 >  30.00\n",
            "|   |   |   |   |--- feature_1 <= 3.50\n",
            "|   |   |   |   |   |--- class: 2\n",
            "|   |   |   |   |--- feature_1 >  3.50\n",
            "|   |   |   |   |   |--- class: 2\n",
            "|   |   |--- feature_0 >  42.00\n",
            "|   |   |   |--- feature_1 <= 3.50\n",
            "|   |   |   |   |--- class: 2\n",
            "|   |   |   |--- feature_1 >  3.50\n",
            "|   |   |   |   |--- class: 2\n",
            "|--- feature_1 >  4.50\n",
            "|   |--- feature_0 <= 30.00\n",
            "|   |   |--- feature_0 <= 18.00\n",
            "|   |   |   |--- feature_1 <= 5.50\n",
            "|   |   |   |   |--- class: 3\n",
            "|   |   |   |--- feature_1 >  5.50\n",
            "|   |   |   |   |--- class: 3\n",
            "|   |   |--- feature_0 >  18.00\n",
            "|   |   |   |--- feature_1 <= 5.50\n",
            "|   |   |   |   |--- class: 3\n",
            "|   |   |   |--- feature_1 >  5.50\n",
            "|   |   |   |   |--- class: 3\n",
            "|   |--- feature_0 >  30.00\n",
            "|   |   |--- feature_0 <= 42.00\n",
            "|   |   |   |--- feature_1 <= 5.50\n",
            "|   |   |   |   |--- class: 4\n",
            "|   |   |   |--- feature_1 >  5.50\n",
            "|   |   |   |   |--- class: 4\n",
            "|   |   |--- feature_0 >  42.00\n",
            "|   |   |   |--- feature_1 <= 5.50\n",
            "|   |   |   |   |--- class: 4\n",
            "|   |   |   |--- feature_1 >  5.50\n",
            "|   |   |   |   |--- class: 4\n",
            "\n"
          ]
        }
      ]
    },
    {
      "cell_type": "code",
      "source": [
        "tree.plot_tree(risk_rating_model)"
      ],
      "metadata": {
        "colab": {
          "base_uri": "https://localhost:8080/",
          "height": 1000
        },
        "id": "l1oaoYweJ1Lc",
        "outputId": "d94d2167-358d-4a52-f4a6-c2cbdfeffa38"
      },
      "execution_count": 28,
      "outputs": [
        {
          "output_type": "execute_result",
          "data": {
            "text/plain": [
              "[Text(0.6190159574468085, 0.9375, 'X[1] <= 4.5\\ngini = 0.771\\nsamples = 720\\nvalue = [178, 126, 234, 97, 85]'),\n",
              " Text(0.40824468085106386, 0.8125, 'X[1] <= 2.5\\ngini = 0.64\\nsamples = 514\\nvalue = [169, 109, 234, 2, 0]'),\n",
              " Text(0.2579787234042553, 0.6875, 'X[0] <= 42.0\\ngini = 0.609\\nsamples = 316\\nvalue = [164, 96, 54, 2, 0]'),\n",
              " Text(0.19680851063829788, 0.5625, 'X[0] <= 30.0\\ngini = 0.411\\nsamples = 228\\nvalue = [162, 66, 0, 0, 0]'),\n",
              " Text(0.13829787234042554, 0.4375, 'X[1] <= 1.5\\ngini = 0.308\\nsamples = 163\\nvalue = [132, 31, 0, 0, 0]'),\n",
              " Text(0.0851063829787234, 0.3125, 'X[1] <= 0.5\\ngini = 0.341\\nsamples = 110\\nvalue = [86, 24, 0, 0, 0]'),\n",
              " Text(0.0425531914893617, 0.1875, 'X[0] <= 18.0\\ngini = 0.312\\nsamples = 62\\nvalue = [50, 12, 0, 0, 0]'),\n",
              " Text(0.02127659574468085, 0.0625, 'gini = 0.404\\nsamples = 32\\nvalue = [23, 9, 0, 0, 0]'),\n",
              " Text(0.06382978723404255, 0.0625, 'gini = 0.18\\nsamples = 30\\nvalue = [27, 3, 0, 0, 0]'),\n",
              " Text(0.1276595744680851, 0.1875, 'X[0] <= 18.0\\ngini = 0.375\\nsamples = 48\\nvalue = [36, 12, 0, 0, 0]'),\n",
              " Text(0.10638297872340426, 0.0625, 'gini = 0.26\\nsamples = 26\\nvalue = [22, 4, 0, 0, 0]'),\n",
              " Text(0.14893617021276595, 0.0625, 'gini = 0.463\\nsamples = 22\\nvalue = [14, 8, 0, 0, 0]'),\n",
              " Text(0.19148936170212766, 0.3125, 'X[0] <= 18.0\\ngini = 0.229\\nsamples = 53\\nvalue = [46, 7, 0, 0, 0]'),\n",
              " Text(0.1702127659574468, 0.1875, 'gini = 0.198\\nsamples = 27\\nvalue = [24, 3, 0, 0, 0]'),\n",
              " Text(0.2127659574468085, 0.1875, 'gini = 0.26\\nsamples = 26\\nvalue = [22, 4, 0, 0, 0]'),\n",
              " Text(0.2553191489361702, 0.4375, 'X[1] <= 0.5\\ngini = 0.497\\nsamples = 65\\nvalue = [30, 35, 0, 0, 0]'),\n",
              " Text(0.23404255319148937, 0.3125, 'gini = 0.401\\nsamples = 18\\nvalue = [5, 13, 0, 0, 0]'),\n",
              " Text(0.2765957446808511, 0.3125, 'X[1] <= 1.5\\ngini = 0.498\\nsamples = 47\\nvalue = [25, 22, 0, 0, 0]'),\n",
              " Text(0.2553191489361702, 0.1875, 'gini = 0.388\\nsamples = 19\\nvalue = [14, 5, 0, 0, 0]'),\n",
              " Text(0.2978723404255319, 0.1875, 'gini = 0.477\\nsamples = 28\\nvalue = [11, 17, 0, 0, 0]'),\n",
              " Text(0.3191489361702128, 0.5625, 'X[1] <= 0.5\\ngini = 0.506\\nsamples = 88\\nvalue = [2, 30, 54, 2, 0]'),\n",
              " Text(0.2978723404255319, 0.4375, 'gini = 0.364\\nsamples = 33\\nvalue = [2, 26, 3, 2, 0]'),\n",
              " Text(0.3404255319148936, 0.4375, 'X[1] <= 1.5\\ngini = 0.135\\nsamples = 55\\nvalue = [0, 4, 51, 0, 0]'),\n",
              " Text(0.3191489361702128, 0.3125, 'gini = 0.191\\nsamples = 28\\nvalue = [0, 3, 25, 0, 0]'),\n",
              " Text(0.3617021276595745, 0.3125, 'gini = 0.071\\nsamples = 27\\nvalue = [0, 1, 26, 0, 0]'),\n",
              " Text(0.5585106382978723, 0.6875, 'X[0] <= 42.0\\ngini = 0.169\\nsamples = 198\\nvalue = [5, 13, 180, 0, 0]'),\n",
              " Text(0.5, 0.5625, 'X[0] <= 30.0\\ngini = 0.193\\nsamples = 152\\nvalue = [5, 11, 136, 0, 0]'),\n",
              " Text(0.44680851063829785, 0.4375, 'X[0] <= 18.0\\ngini = 0.127\\nsamples = 104\\nvalue = [2, 5, 97, 0, 0]'),\n",
              " Text(0.40425531914893614, 0.3125, 'X[1] <= 3.5\\ngini = 0.117\\nsamples = 49\\nvalue = [1, 2, 46, 0, 0]'),\n",
              " Text(0.3829787234042553, 0.1875, 'gini = 0.131\\nsamples = 29\\nvalue = [1, 1, 27, 0, 0]'),\n",
              " Text(0.425531914893617, 0.1875, 'gini = 0.095\\nsamples = 20\\nvalue = [0, 1, 19, 0, 0]'),\n",
              " Text(0.48936170212765956, 0.3125, 'X[1] <= 3.5\\ngini = 0.137\\nsamples = 55\\nvalue = [1, 3, 51, 0, 0]'),\n",
              " Text(0.46808510638297873, 0.1875, 'gini = 0.121\\nsamples = 31\\nvalue = [0, 2, 29, 0, 0]'),\n",
              " Text(0.5106382978723404, 0.1875, 'gini = 0.156\\nsamples = 24\\nvalue = [1, 1, 22, 0, 0]'),\n",
              " Text(0.5531914893617021, 0.4375, 'X[1] <= 3.5\\ngini = 0.32\\nsamples = 48\\nvalue = [3, 6, 39, 0, 0]'),\n",
              " Text(0.5319148936170213, 0.3125, 'gini = 0.39\\nsamples = 21\\nvalue = [2, 3, 16, 0, 0]'),\n",
              " Text(0.574468085106383, 0.3125, 'gini = 0.261\\nsamples = 27\\nvalue = [1, 3, 23, 0, 0]'),\n",
              " Text(0.6170212765957447, 0.5625, 'X[1] <= 3.5\\ngini = 0.083\\nsamples = 46\\nvalue = [0, 2, 44, 0, 0]'),\n",
              " Text(0.5957446808510638, 0.4375, 'gini = 0.159\\nsamples = 23\\nvalue = [0, 2, 21, 0, 0]'),\n",
              " Text(0.6382978723404256, 0.4375, 'gini = 0.0\\nsamples = 23\\nvalue = [0, 0, 23, 0, 0]'),\n",
              " Text(0.8297872340425532, 0.8125, 'X[0] <= 30.0\\ngini = 0.608\\nsamples = 206\\nvalue = [9, 17, 0, 95, 85]'),\n",
              " Text(0.7446808510638298, 0.6875, 'X[0] <= 18.0\\ngini = 0.437\\nsamples = 92\\nvalue = [4, 6, 0, 67, 15]'),\n",
              " Text(0.7021276595744681, 0.5625, 'X[1] <= 5.5\\ngini = 0.409\\nsamples = 49\\nvalue = [1, 1, 0, 36, 11]'),\n",
              " Text(0.6808510638297872, 0.4375, 'gini = 0.41\\nsamples = 19\\nvalue = [1, 0, 0, 14, 4]'),\n",
              " Text(0.723404255319149, 0.4375, 'gini = 0.407\\nsamples = 30\\nvalue = [0, 1, 0, 22, 7]'),\n",
              " Text(0.7872340425531915, 0.5625, 'X[1] <= 5.5\\ngini = 0.453\\nsamples = 43\\nvalue = [3, 5, 0, 31, 4]'),\n",
              " Text(0.7659574468085106, 0.4375, 'gini = 0.517\\nsamples = 24\\nvalue = [2, 3, 0, 16, 3]'),\n",
              " Text(0.8085106382978723, 0.4375, 'gini = 0.36\\nsamples = 19\\nvalue = [1, 2, 0, 15, 1]'),\n",
              " Text(0.9148936170212766, 0.6875, 'X[0] <= 42.0\\ngini = 0.551\\nsamples = 114\\nvalue = [5, 11, 0, 28, 70]'),\n",
              " Text(0.8723404255319149, 0.5625, 'X[1] <= 5.5\\ngini = 0.587\\nsamples = 55\\nvalue = [3, 4, 0, 18, 30]'),\n",
              " Text(0.851063829787234, 0.4375, 'gini = 0.604\\nsamples = 30\\nvalue = [1, 3, 0, 11, 15]'),\n",
              " Text(0.8936170212765957, 0.4375, 'gini = 0.554\\nsamples = 25\\nvalue = [2, 1, 0, 7, 15]'),\n",
              " Text(0.9574468085106383, 0.5625, 'X[1] <= 5.5\\ngini = 0.496\\nsamples = 59\\nvalue = [2, 7, 0, 10, 40]'),\n",
              " Text(0.9361702127659575, 0.4375, 'gini = 0.497\\nsamples = 31\\nvalue = [1, 5, 0, 4, 21]'),\n",
              " Text(0.9787234042553191, 0.4375, 'gini = 0.487\\nsamples = 28\\nvalue = [1, 2, 0, 6, 19]')]"
            ]
          },
          "metadata": {},
          "execution_count": 28
        },
        {
          "output_type": "display_data",
          "data": {
            "text/plain": [
              "<Figure size 432x288 with 1 Axes>"
            ],
            "image/png": "[encoded data removed]"
          },
          "metadata": {
            "needs_background": "light"
          }
        }
      ]
    },
    {
      "cell_type": "code",
      "source": [
        "hasil = risk_rating_model.predict(X_test)"
      ],
      "metadata": {
        "colab": {
          "base_uri": "https://localhost:8080/"
        },
        "id": "T4cxqsUqO3jO",
        "outputId": "a4db3d52-7f0c-46d8-8b76-429da5691a9d"
      },
      "execution_count": 29,
      "outputs": [
        {
          "output_type": "execute_result",
          "data": {
            "text/plain": [
              "array([2, 2, 2, 2, 2, 2, 2, 3, 2, 1, 0, 1, 2, 2, 0, 2, 1, 0, 0, 2, 1, 2,\n",
              "       0, 0, 2, 4, 3, 2, 2, 0, 0, 0, 2, 2, 0, 0, 2, 4, 2, 4, 3, 2, 2, 0,\n",
              "       2, 0, 0, 2, 3, 4, 2, 0, 4, 2, 4, 2, 0, 2, 3, 0, 0, 1, 1, 0, 1, 0,\n",
              "       0, 0, 2, 4, 4, 3, 1, 2, 0, 2, 0, 0, 2, 4, 0, 3, 2, 2, 4, 4, 0, 2,\n",
              "       4, 1, 4, 2, 2, 1, 1, 0, 1, 2, 0, 2, 4, 2, 0, 0, 4, 0, 2, 2, 2, 0,\n",
              "       0, 1, 3, 1, 2, 2, 3, 4, 4, 4, 2, 3, 1, 3, 0, 3, 3, 0, 0, 3, 2, 2,\n",
              "       2, 0, 0, 1, 1, 2, 2, 4, 1, 2, 4, 4, 2, 3, 1, 3, 0, 2, 2, 0, 0, 1,\n",
              "       3, 1, 2, 0, 2, 0, 0, 4, 3, 3, 0, 0, 4, 0, 1, 3, 1, 0, 0, 2, 2, 4,\n",
              "       1, 4, 2, 4])"
            ]
          },
          "metadata": {},
          "execution_count": 29
        }
      ]
    },
    {
      "cell_type": "code",
      "source": [
        "from sklearn.metrics import *"
      ],
      "metadata": {
        "id": "iTH5ZQXXPzuQ"
      },
      "execution_count": 31,
      "outputs": []
    },
    {
      "cell_type": "code",
      "source": [
        "confusion_matrix(Y_test, hasil)"
      ],
      "metadata": {
        "colab": {
          "base_uri": "https://localhost:8080/"
        },
        "id": "HmdDQm0fPE0m",
        "outputId": "d5831647-2ee6-42ec-c973-e18aa2248f58"
      },
      "execution_count": 33,
      "outputs": [
        {
          "output_type": "execute_result",
          "data": {
            "text/plain": [
              "array([[36, 10,  0,  2,  1],\n",
              "       [14, 13,  4,  0,  2],\n",
              "       [ 0,  1, 56,  0,  0],\n",
              "       [ 0,  0,  0, 15,  8],\n",
              "       [ 0,  0,  0,  3, 15]])"
            ]
          },
          "metadata": {},
          "execution_count": 33
        }
      ]
    },
    {
      "cell_type": "code",
      "source": [
        " accuracy_score(Y_test, hasil)"
      ],
      "metadata": {
        "colab": {
          "base_uri": "https://localhost:8080/"
        },
        "id": "I0XyVN98P3nd",
        "outputId": "b607084c-9b7e-436b-9c7b-8439c6d9dc76"
      },
      "execution_count": 34,
      "outputs": [
        {
          "output_type": "execute_result",
          "data": {
            "text/plain": [
              "0.75"
            ]
          },
          "metadata": {},
          "execution_count": 34
        }
      ]
    }
  ]
}